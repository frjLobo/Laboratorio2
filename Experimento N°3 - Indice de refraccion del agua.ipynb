{
 "cells": [
  {
   "cell_type": "markdown",
   "id": "68a75a0f",
   "metadata": {},
   "source": [
    "# Indice de refracción del agua"
   ]
  },
  {
   "cell_type": "code",
   "execution_count": 1,
   "id": "f0b62dd8",
   "metadata": {},
   "outputs": [],
   "source": [
    "import numpy as np"
   ]
  },
  {
   "cell_type": "code",
   "execution_count": 9,
   "id": "d91fbc7c",
   "metadata": {},
   "outputs": [],
   "source": [
    "da=np.array([3.5,3.6,3.7,3.4,3.4,3.4,3.5])\n",
    "dh2o=np.array([2.8,2.6,2.6,2.6,2.7,2.7,2.6])"
   ]
  },
  {
   "cell_type": "markdown",
   "id": "4c183d5b",
   "metadata": {},
   "source": [
    "Denotamos la distancia entre los ordenes de difraccion asociados al aire y al agua como y1 e y2 respectivamente"
   ]
  },
  {
   "cell_type": "code",
   "execution_count": 34,
   "id": "3ea913d8",
   "metadata": {},
   "outputs": [
    {
     "name": "stdout",
     "output_type": "stream",
     "text": [
      "Promedio y1\n",
      "3.5\n",
      "promy1=3.5[m]\n",
      "desviacion estandar datos aire\n",
      "El error $\\Delta$y1 = 0.3\n",
      "y1=3.5 $\\pm$ 0.3\n"
     ]
    }
   ],
   "source": [
    "print('Promedio y1')\n",
    "y1=3.5\n",
    "print(np.mean(da))\n",
    "print('promy1=3.5[m]')\n",
    "print('desviacion estandar datos aire')\n",
    "vara=np.std(da)\n",
    "np.sqrt(vara)\n",
    "dy1=0.3\n",
    "print('El error $\\\\Delta$y1 =',dy1)\n",
    "print('y1=3.5 $\\\\pm$ 0.3')"
   ]
  },
  {
   "cell_type": "code",
   "execution_count": 35,
   "id": "04a8b835",
   "metadata": {},
   "outputs": [
    {
     "name": "stdout",
     "output_type": "stream",
     "text": [
      "Promedio y2\n",
      "2.6571428571428575\n",
      "promy2=2.7[m]\n",
      "Desviacion estandar datos agua\n",
      "El error $\\Delta$y2 = 0.3\n",
      "y2=2.7 $\\pm$ 0.3\n"
     ]
    }
   ],
   "source": [
    "print('Promedio y2')\n",
    "print(np.mean(dh2o))#aproximamos\n",
    "y2=2.7\n",
    "print('promy2=2.7[m]')\n",
    "print('Desviacion estandar datos agua')\n",
    "varh2o=np.std(dh2o)\n",
    "np.sqrt(varh2o)\n",
    "dy2=0.3\n",
    "print('El error $\\\\Delta$y2 =',dy2)\n",
    "print('y2=2.7 $\\\\pm$ 0.3')"
   ]
  },
  {
   "cell_type": "code",
   "execution_count": 36,
   "id": "cb889e9e",
   "metadata": {},
   "outputs": [],
   "source": [
    "#distancia disco-pantalla\n",
    "x=7.4\n",
    "dx=0.05"
   ]
  },
  {
   "cell_type": "code",
   "execution_count": null,
   "id": "df40c41e",
   "metadata": {},
   "outputs": [],
   "source": [
    "Usamos el metodo de propagación de errores"
   ]
  },
  {
   "cell_type": "code",
   "execution_count": 39,
   "id": "42b14b2e",
   "metadata": {},
   "outputs": [],
   "source": [
    "def atan(y,x):\n",
    "    return np.arctan(y/x)"
   ]
  },
  {
   "cell_type": "code",
   "execution_count": 40,
   "id": "9e8790da",
   "metadata": {},
   "outputs": [],
   "source": [
    "def ET(x,y,dx,dy):#error theta\n",
    "    return np.sqrt(((np.abs(y/((y**2)+(x**2))))*(dx**2))**2 + ((np.abs(x/((y**2)+(x**2))))*(dy2))**2)"
   ]
  },
  {
   "cell_type": "code",
   "execution_count": 44,
   "id": "d14de2a1",
   "metadata": {},
   "outputs": [
    {
     "name": "stdout",
     "output_type": "stream",
     "text": [
      "Error theta con y1\n",
      "0.4417931655174437\n",
      "0.03312964100491473\n",
      "0.44 \\pm 0.03\n"
     ]
    }
   ],
   "source": [
    "print('Error theta con y1')\n",
    "print(atan(y1,x))\n",
    "errorty1=ET(x,y1,dx,dy1)\n",
    "print(errorty1)\n",
    "ty1=0.44\n",
    "ety1=0.03\n",
    "print('0.44 \\pm 0.03')"
   ]
  },
  {
   "cell_type": "code",
   "execution_count": 59,
   "id": "ed81e713",
   "metadata": {},
   "outputs": [
    {
     "name": "stdout",
     "output_type": "stream",
     "text": [
      "Error theta con y2\n",
      "0.349855601857098\n",
      "0.03312964100491473\n",
      "0.35 \\pm 0.03\n"
     ]
    }
   ],
   "source": [
    "print('Error theta con y2')\n",
    "print(atan(y2,x))\n",
    "errorty2=ET(x,y1,dx,dy2)\n",
    "print(errorty2)\n",
    "ty2=0.35\n",
    "ety2=0.03\n",
    "print('0.35 \\pm 0.03')"
   ]
  },
  {
   "cell_type": "code",
   "execution_count": 60,
   "id": "b4979ce0",
   "metadata": {},
   "outputs": [],
   "source": [
    "def es(ty,ety):\n",
    "    return np.cos(ty)*(ety)"
   ]
  },
  {
   "cell_type": "code",
   "execution_count": 61,
   "id": "e6e7fec7",
   "metadata": {},
   "outputs": [
    {
     "name": "stdout",
     "output_type": "stream",
     "text": [
      "error seno con y1\n",
      "0.4259394650659996\n",
      "0.0271425498965989\n",
      "0.43 \\pm 0.03\n"
     ]
    }
   ],
   "source": [
    "print('error seno con y1')\n",
    "print(np.sin(ty1))\n",
    "print(es(ty1,ety1))\n",
    "sty1=0.43\n",
    "esty1=0.03\n",
    "print('0.43 \\pm 0.03')"
   ]
  },
  {
   "cell_type": "code",
   "execution_count": 64,
   "id": "63a808f9",
   "metadata": {},
   "outputs": [
    {
     "name": "stdout",
     "output_type": "stream",
     "text": [
      "error seno con y2\n",
      "0.34289780745545134\n",
      "0.028181181385421365\n",
      "0.34 \\pm 0.03\n"
     ]
    }
   ],
   "source": [
    "print('error seno con y2')\n",
    "print(np.sin(ty2))\n",
    "print(es(ty2,ety2))\n",
    "sty2=0.34\n",
    "esty2=0.03\n",
    "print('0.34 \\pm 0.03')"
   ]
  },
  {
   "cell_type": "markdown",
   "id": "c468e676",
   "metadata": {},
   "source": [
    "Indice de refraccion del agua viene dado por:\n",
    "$$ n_{agua}=\\frac{sin(\\theta_1)}{sin(\\theta_2)} $$\n",
    "donde $\\theta_1$ es el angulo obtenido a patir de la mediciones de difraccion de un disco en el aire y $\\theta_2$ es el angulo obtenido a partir de la mediciones en el agua "
   ]
  },
  {
   "cell_type": "code",
   "execution_count": 71,
   "id": "9e87e56a",
   "metadata": {},
   "outputs": [],
   "source": [
    "# el error de n_agua estará dado por\n",
    "def es(sty1,esty1,sty2,esty2):\n",
    "    return np.sqrt(((1-(sty1)**2)/(sty2**2))*(esty1**2) + (((sty1**2)*(1-(sty2**2)))/(sty2**4))*(esty2**2))"
   ]
  },
  {
   "cell_type": "code",
   "execution_count": 72,
   "id": "1c5ed869",
   "metadata": {},
   "outputs": [
    {
     "name": "stdout",
     "output_type": "stream",
     "text": [
      " indice de refraccion del agua junto a su error\n",
      "1.2647058823529411\n",
      "0.13175396726108055\n",
      "1.3 \\pm 0.1\n"
     ]
    }
   ],
   "source": [
    "print(' indice de refraccion del agua junto a su error')\n",
    "print(sty1/sty2)\n",
    "print(es(sty1,esty1,sty2,esty2))\n",
    "print('1.3 \\pm 0.1')"
   ]
  },
  {
   "cell_type": "code",
   "execution_count": null,
   "id": "5b956870",
   "metadata": {},
   "outputs": [],
   "source": []
  }
 ],
 "metadata": {
  "kernelspec": {
   "display_name": "Python 3",
   "language": "python",
   "name": "python3"
  },
  "language_info": {
   "codemirror_mode": {
    "name": "ipython",
    "version": 3
   },
   "file_extension": ".py",
   "mimetype": "text/x-python",
   "name": "python",
   "nbconvert_exporter": "python",
   "pygments_lexer": "ipython3",
   "version": "3.8.8"
  }
 },
 "nbformat": 4,
 "nbformat_minor": 5
}
