{
 "cells": [
  {
   "cell_type": "code",
   "execution_count": 4,
   "id": "5c0c4088",
   "metadata": {},
   "outputs": [],
   "source": [
    "import numpy as np\n",
    "import matplotlib.pyplot as plt"
   ]
  },
  {
   "cell_type": "markdown",
   "id": "33525692",
   "metadata": {},
   "source": [
    "# Experimento N° 1, Capacidad de un CD"
   ]
  },
  {
   "cell_type": "code",
   "execution_count": 5,
   "id": "5705aa19",
   "metadata": {},
   "outputs": [
    {
     "data": {
      "text/plain": [
       "array([[21.5, 12. ],\n",
       "       [25. , 14.1],\n",
       "       [30. , 16.6],\n",
       "       [35. , 19.5],\n",
       "       [40. , 22.2],\n",
       "       [45. , 24.5]])"
      ]
     },
     "execution_count": 5,
     "metadata": {},
     "output_type": "execute_result"
    }
   ],
   "source": [
    "#datos obtenidos\n",
    "d=np.zeros([6,2])\n",
    "d[0]=np.array([21.5,12.0]) #d[i]=np.array([distancia pantalla-cd,distancia ordenes de difraccion])\n",
    "d[1]=np.array([25,14.1])\n",
    "d[2]=np.array([30,16.6])\n",
    "d[3]=np.array([35,19.5])\n",
    "d[4]=np.array([40,22.2])\n",
    "d[5]=np.array([45,24.5])\n",
    "d"
   ]
  },
  {
   "cell_type": "code",
   "execution_count": 6,
   "id": "9ffa4a3a",
   "metadata": {},
   "outputs": [
    {
     "data": {
      "text/plain": [
       "14.1"
      ]
     },
     "execution_count": 6,
     "metadata": {},
     "output_type": "execute_result"
    }
   ],
   "source": [
    "d[1,1]"
   ]
  },
  {
   "cell_type": "code",
   "execution_count": 7,
   "id": "6f7bd306",
   "metadata": {},
   "outputs": [],
   "source": [
    "def atan(x,y): #theta\n",
    "    return np.arctan(y/x)"
   ]
  },
  {
   "cell_type": "code",
   "execution_count": 8,
   "id": "89402543",
   "metadata": {},
   "outputs": [],
   "source": [
    "dx=0.05\n",
    "dy=0.05"
   ]
  },
  {
   "cell_type": "code",
   "execution_count": 9,
   "id": "6a582bef",
   "metadata": {},
   "outputs": [],
   "source": [
    "def ET(x,y):#error theta\n",
    "    return np.sqrt(((np.abs(y/((y**2)+(x**2))))*(dx**2))**2 + ((np.abs(x/((y**2)+(x**2))))*(dy))**2)"
   ]
  },
  {
   "cell_type": "code",
   "execution_count": 10,
   "id": "3a559260",
   "metadata": {},
   "outputs": [
    {
     "name": "stdout",
     "output_type": "stream",
     "text": [
      "[[0.50907089 0.00177389]\n",
      " [0.5135282  0.00151794]\n",
      " [0.50539879 0.00127648]\n",
      " [0.50831063 0.0010906 ]\n",
      " [0.50667388 0.00095601]\n",
      " [0.49856791 0.00085738]]\n"
     ]
    }
   ],
   "source": [
    "theta=np.zeros([6,2]) #theta mas el error de theta\n",
    "#etheta=np.zeros([6,1])\n",
    "for i in range(0,6):\n",
    "    theta[i]=atan(d[i,0], d[i,1]),ET(d[i,0], d[i,1])\n",
    "    #etheta[i]=ET(d[i,0], d[i,1])\n",
    "print(theta)"
   ]
  },
  {
   "cell_type": "code",
   "execution_count": 11,
   "id": "a3d5b3ea",
   "metadata": {},
   "outputs": [],
   "source": [
    "def sen(t):\n",
    "    return np.sin(t)"
   ]
  },
  {
   "cell_type": "code",
   "execution_count": 12,
   "id": "6c49a603",
   "metadata": {},
   "outputs": [],
   "source": [
    "def es(t,et):\n",
    "    return np.cos(t)*(et)"
   ]
  },
  {
   "cell_type": "code",
   "execution_count": 13,
   "id": "3d5e008b",
   "metadata": {},
   "outputs": [
    {
     "name": "stdout",
     "output_type": "stream",
     "text": [
      "[[0.48736616 0.00154895]\n",
      " [0.49125342 0.00132215]\n",
      " [0.48415641 0.00111689]\n",
      " [0.48670216 0.00095271]\n",
      " [0.4852717  0.0008359 ]\n",
      " [0.47816827 0.00075301]]\n"
     ]
    }
   ],
   "source": [
    "seno=np.zeros([6,2])\n",
    "for i in range(0,6):\n",
    "    seno[i]=sen(theta[i,0]),es(theta[i,0],theta[i,1])\n",
    "print(seno)"
   ]
  },
  {
   "cell_type": "markdown",
   "id": "402c2e69",
   "metadata": {},
   "source": [
    "$$ d_s = \\frac{\\lambda}{sen\\theta}$$"
   ]
  },
  {
   "cell_type": "code",
   "execution_count": 14,
   "id": "9cb70a0f",
   "metadata": {},
   "outputs": [],
   "source": [
    "l=np.array([630,640,650])*10**(-9)\n",
    "ll=np.mean(l)\n",
    "std=10**(-8)"
   ]
  },
  {
   "cell_type": "code",
   "execution_count": 15,
   "id": "d6b1941d",
   "metadata": {},
   "outputs": [],
   "source": [
    "def dsurco(ll,seno):\n",
    "    return ll/seno"
   ]
  },
  {
   "cell_type": "code",
   "execution_count": 16,
   "id": "8af9bbc9",
   "metadata": {},
   "outputs": [],
   "source": [
    "def error(ll,seno,std,etheta):\n",
    "    return np.sqrt(((1/(seno))**2)*(std**2) + ((((ll**2)*(1-seno**2))/(seno**4))*(etheta**2)))"
   ]
  },
  {
   "cell_type": "code",
   "execution_count": 17,
   "id": "2f558699",
   "metadata": {},
   "outputs": [
    {
     "name": "stdout",
     "output_type": "stream",
     "text": [
      "[[1.31318104e-06 2.09386155e-08]\n",
      " [1.30278992e-06 2.06558647e-08]\n",
      " [1.32188686e-06 2.08783792e-08]\n",
      " [1.31497260e-06 2.07070548e-08]\n",
      " [1.31884881e-06 2.07318567e-08]\n",
      " [1.33844097e-06 2.10190872e-08]]\n"
     ]
    }
   ],
   "source": [
    "ds=np.zeros([6,2])\n",
    "for i in range(0,6):\n",
    "    ds[i]=dsurco(ll,seno[i,0]),error(ll,seno[i,0],std,theta[i,1])\n",
    "print(ds)"
   ]
  },
  {
   "cell_type": "code",
   "execution_count": 18,
   "id": "55db643c",
   "metadata": {},
   "outputs": [
    {
     "name": "stdout",
     "output_type": "stream",
     "text": [
      "[[1.31318104e-06 1.30278992e-06 1.32188686e-06 1.31497260e-06\n",
      "  1.31884881e-06 1.33844097e-06]]\n"
     ]
    }
   ],
   "source": [
    "resurco=np.zeros([1,6]) #resultadossurco\n",
    "for i in range(0,6):\n",
    "    resurco[0,i]=ds[i,0]\n",
    "print(resurco)"
   ]
  },
  {
   "cell_type": "code",
   "execution_count": 19,
   "id": "605d1ef6",
   "metadata": {},
   "outputs": [
    {
     "name": "stdout",
     "output_type": "stream",
     "text": [
      "1.3183533681090741e-06\n",
      "1.0775329290462505e-08\n",
      "1.32 $\\times$ 10e-6[m] $\\pm$ 0.02 $\\times$ 10e-6[m] \n"
     ]
    }
   ],
   "source": [
    "print(np.mean(resurco)) # promedio de resultados\n",
    "print(np.std(resurco)) # desviacion estandar \n",
    "# como el error obtenido de la propagacion de errores es mayor que la desviacion estandar, el valor del surco calculado mas su error será\n",
    "print('La estimacion de la  distancia entre surcos junto a su error está dada por')\n",
    "print('1.32 $\\\\times$ 10e-6[m] $\\pm$ 0.02 $\\\\times$ 10e-6[m] ')"
   ]
  },
  {
   "cell_type": "markdown",
   "id": "6f92e6ef",
   "metadata": {},
   "source": [
    "# Experimento N°2 pelo"
   ]
  },
  {
   "cell_type": "code",
   "execution_count": 20,
   "id": "f6342c86",
   "metadata": {},
   "outputs": [],
   "source": [
    "dd=np.zeros([6,2])\n",
    "dd[0]=([40,0.5])\n",
    "dd[1]=([50,0.6])\n",
    "dd[2]=([60,0.7])\n",
    "dd[3]=([70,0.8])\n",
    "dd[4]=([80,1.0])\n",
    "dd[5]=([90,1.2])"
   ]
  },
  {
   "cell_type": "code",
   "execution_count": 21,
   "id": "06482bfa",
   "metadata": {},
   "outputs": [
    {
     "data": {
      "text/plain": [
       "array([[40. ,  0.5],\n",
       "       [50. ,  0.6],\n",
       "       [60. ,  0.7],\n",
       "       [70. ,  0.8],\n",
       "       [80. ,  1. ],\n",
       "       [90. ,  1.2]])"
      ]
     },
     "execution_count": 21,
     "metadata": {},
     "output_type": "execute_result"
    }
   ],
   "source": [
    "dd"
   ]
  },
  {
   "cell_type": "code",
   "execution_count": 22,
   "id": "ea5fed5c",
   "metadata": {},
   "outputs": [
    {
     "name": "stdout",
     "output_type": "stream",
     "text": [
      "[[0.01249935 0.00114692]\n",
      " [0.01199942 0.00092643]\n",
      " [0.01166614 0.00077416]\n",
      " [0.01142807 0.00066291]\n",
      " [0.01249935 0.00058037]\n",
      " [0.01333254 0.00051727]]\n"
     ]
    }
   ],
   "source": [
    "thetap=np.zeros([6,2]) #theta mas el error de theta\n",
    "for i in range(0,6):\n",
    "    thetap[i]=atan(dd[i,0], dd[i,1]),ET(dd[i,0], d[i,1])\n",
    "    #etheta[i]=ET(d[i,0], d[i,1])\n",
    "print(thetap)"
   ]
  },
  {
   "cell_type": "code",
   "execution_count": 23,
   "id": "398e0de5",
   "metadata": {},
   "outputs": [
    {
     "name": "stdout",
     "output_type": "stream",
     "text": [
      "[[0.01249902 0.00114683]\n",
      " [0.01199914 0.00092636]\n",
      " [0.01166587 0.0007741 ]\n",
      " [0.01142783 0.00066287]\n",
      " [0.01249902 0.00058032]\n",
      " [0.01333215 0.00051723]]\n"
     ]
    }
   ],
   "source": [
    "senop=np.zeros([6,2])\n",
    "for i in range(0,6):\n",
    "    senop[i]=sen(thetap[i,0]),es(thetap[i,0],thetap[i,1])\n",
    "print(senop)"
   ]
  },
  {
   "cell_type": "code",
   "execution_count": 24,
   "id": "e8c56bb3",
   "metadata": {},
   "outputs": [
    {
     "name": "stdout",
     "output_type": "stream",
     "text": [
      "[[5.12039998e-05 4.76541713e-06]\n",
      " [5.33371732e-05 4.20094512e-06]\n",
      " [5.48608761e-05 3.73968027e-06]\n",
      " [5.60036570e-05 3.36406979e-06]\n",
      " [5.12039998e-05 2.50821114e-06]\n",
      " [4.80042665e-05 2.00757164e-06]]\n"
     ]
    },
    {
     "data": {
      "text/plain": [
       "array([5.12039998e-05, 5.33371732e-05, 5.48608761e-05, 5.60036570e-05,\n",
       "       5.12039998e-05, 4.80042665e-05])"
      ]
     },
     "execution_count": 24,
     "metadata": {},
     "output_type": "execute_result"
    }
   ],
   "source": [
    "dp=np.zeros([6,2])\n",
    "for i in range(0,6):\n",
    "    dp[i]=dsurco(ll,senop[i,0]),error(ll,senop[i,0],std,senop[i,1])\n",
    "print(dp)\n",
    "dp[:,0]"
   ]
  },
  {
   "cell_type": "code",
   "execution_count": 27,
   "id": "b7544698",
   "metadata": {},
   "outputs": [
    {
     "data": {
      "text/plain": [
       "array([[5.12039998e-05, 5.33371732e-05, 5.48608761e-05, 5.60036570e-05,\n",
       "        5.12039998e-05, 4.80042665e-05]])"
      ]
     },
     "execution_count": 27,
     "metadata": {},
     "output_type": "execute_result"
    }
   ],
   "source": [
    "repelo=np.zeros([1,6])\n",
    "for i in range(0,6):\n",
    "    repelo[0,i]=dp[i,0]\n",
    "repelo"
   ]
  },
  {
   "cell_type": "code",
   "execution_count": 29,
   "id": "abcb470e",
   "metadata": {},
   "outputs": [
    {
     "name": "stdout",
     "output_type": "stream",
     "text": [
      "5.2435662074429584e-05\n",
      "2.648780341679132e-06\n",
      "La estimacion del ancho del pelo junto a su error esta dado por\n",
      "52 $\\times$ 10e-6[m] $\\pm$ 5$\\times$ 10e-6[m]\n"
     ]
    }
   ],
   "source": [
    "print(np.mean(repelo))\n",
    "print(np.std(repelo))\n",
    "#Como la desviacion estandar es menor que el mayor de los errores de propagacion obtenidos, el ancho de pelo calculado es\n",
    "print('La estimacion del ancho del pelo junto a su error esta dado por')\n",
    "print(\"52 $\\\\times$ 10e-6[m] $\\pm$ 5$\\\\times$ 10e-6[m]\")"
   ]
  }
 ],
 "metadata": {
  "kernelspec": {
   "display_name": "Python 3",
   "language": "python",
   "name": "python3"
  },
  "language_info": {
   "codemirror_mode": {
    "name": "ipython",
    "version": 3
   },
   "file_extension": ".py",
   "mimetype": "text/x-python",
   "name": "python",
   "nbconvert_exporter": "python",
   "pygments_lexer": "ipython3",
   "version": "3.8.8"
  }
 },
 "nbformat": 4,
 "nbformat_minor": 5
}
